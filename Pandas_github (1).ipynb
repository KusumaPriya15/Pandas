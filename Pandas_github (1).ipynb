{
 "cells": [
  {
   "cell_type": "markdown",
   "id": "65a94213",
   "metadata": {},
   "source": [
    "### 1. Introduction to Pandas\n",
    "\n",
    "Pandas is a versatile library that facilitates data analysis and manipulation. It integrates well with NumPy and other scientific libraries like SciPy, and is especially useful for working with structured or tabular data."
   ]
  },
  {
   "cell_type": "code",
   "execution_count": 10,
   "id": "c20f76b7",
   "metadata": {},
   "outputs": [],
   "source": [
    "import numpy as np\n",
    "import pandas as pd\n",
    "from pandas import Series, DataFrame\n"
   ]
  },
  {
   "cell_type": "markdown",
   "id": "e70c6b7b",
   "metadata": {},
   "source": [
    "### 2. Pandas Data Structures\n",
    "\n",
    "2.1 Series\n",
    "A Series is a one-dimensional array-like object with labels (the index)."
   ]
  },
  {
   "cell_type": "code",
   "execution_count": 11,
   "id": "7d5adedb",
   "metadata": {},
   "outputs": [
    {
     "name": "stdout",
     "output_type": "stream",
     "text": [
      "0    4\n",
      "1    7\n",
      "2   -5\n",
      "3    3\n",
      "dtype: int64\n"
     ]
    }
   ],
   "source": [
    "# Creating a Series\n",
    "obj = pd.Series([4, 7, -5, 3])\n",
    "print(obj)\n"
   ]
  },
  {
   "cell_type": "markdown",
   "id": "bee5eee9",
   "metadata": {},
   "source": [
    "Explanation: The Series object consists of the data and its corresponding labels, called an index."
   ]
  },
  {
   "cell_type": "code",
   "execution_count": 12,
   "id": "88e95fc0",
   "metadata": {},
   "outputs": [
    {
     "name": "stdout",
     "output_type": "stream",
     "text": [
      "d    4\n",
      "b    7\n",
      "a   -5\n",
      "c    3\n",
      "dtype: int64\n"
     ]
    }
   ],
   "source": [
    "# Custom index for a Series\n",
    "obj2 = pd.Series([4, 7, -5, 3], index=['d', 'b', 'a', 'c'])\n",
    "print(obj2)\n"
   ]
  },
  {
   "cell_type": "markdown",
   "id": "b6ed65e7",
   "metadata": {},
   "source": [
    "Explanation: Here, the index has been customized."
   ]
  },
  {
   "cell_type": "markdown",
   "id": "52f53396",
   "metadata": {},
   "source": [
    "### 3. DataFrame\n",
    "\n",
    "A DataFrame is a two-dimensional tabular structure with labeled rows and columns."
   ]
  },
  {
   "cell_type": "code",
   "execution_count": 13,
   "id": "dbd03a60",
   "metadata": {},
   "outputs": [
    {
     "name": "stdout",
     "output_type": "stream",
     "text": [
      "    state  year  pop\n",
      "0    Ohio  2000  1.5\n",
      "1  Nevada  2001  2.4\n"
     ]
    }
   ],
   "source": [
    "# Creating a DataFrame\n",
    "data = {'state': ['Ohio', 'Nevada'], 'year': [2000, 2001], 'pop': [1.5, 2.4]}\n",
    "frame = pd.DataFrame(data)\n",
    "print(frame)\n"
   ]
  },
  {
   "cell_type": "markdown",
   "id": "8973a99c",
   "metadata": {},
   "source": [
    "Explanation: This creates a DataFrame from a dictionary, with each key-value pair becoming a column."
   ]
  },
  {
   "cell_type": "code",
   "execution_count": 14,
   "id": "33a96354",
   "metadata": {},
   "outputs": [
    {
     "name": "stdout",
     "output_type": "stream",
     "text": [
      "0      Ohio\n",
      "1    Nevada\n",
      "Name: state, dtype: object\n"
     ]
    }
   ],
   "source": [
    "# Accessing specific columns\n",
    "print(frame['state'])\n"
   ]
  },
  {
   "cell_type": "markdown",
   "id": "b0bfadaf",
   "metadata": {},
   "source": [
    "Explanation: You can retrieve a column from a DataFrame using either dictionary-style indexing or attribute access."
   ]
  },
  {
   "cell_type": "markdown",
   "id": "d97ba89f",
   "metadata": {},
   "source": [
    "### 4. Essential Functionality\n",
    "\n",
    "#### 4.1 Reindexing\n",
    "\n",
    "Reindexing allows you to realign data to a new index."
   ]
  },
  {
   "cell_type": "code",
   "execution_count": 15,
   "id": "8c8bc08a",
   "metadata": {},
   "outputs": [
    {
     "name": "stdout",
     "output_type": "stream",
     "text": [
      "a   -5.3\n",
      "b    7.2\n",
      "c    3.6\n",
      "d    4.5\n",
      "e    NaN\n",
      "dtype: float64\n"
     ]
    }
   ],
   "source": [
    "# Reindexing a Series\n",
    "obj = pd.Series([4.5, 7.2, -5.3, 3.6], index=['d', 'b', 'a', 'c'])\n",
    "obj2 = obj.reindex(['a', 'b', 'c', 'd', 'e'])\n",
    "print(obj2)\n"
   ]
  },
  {
   "cell_type": "markdown",
   "id": "f4fda8fe",
   "metadata": {},
   "source": [
    "Explanation: Reindexing can introduce missing values (NaN) when the new index has labels not present in the original index."
   ]
  },
  {
   "cell_type": "markdown",
   "id": "40e82bb5",
   "metadata": {},
   "source": [
    "#### 4.2 Dropping Entries\n",
    "\n",
    "You can drop specific entries from an axis in a Series or DataFrame."
   ]
  },
  {
   "cell_type": "code",
   "execution_count": 16,
   "id": "ff975230",
   "metadata": {},
   "outputs": [
    {
     "name": "stdout",
     "output_type": "stream",
     "text": [
      "a    0.0\n",
      "b    1.0\n",
      "d    3.0\n",
      "e    4.0\n",
      "dtype: float64\n"
     ]
    }
   ],
   "source": [
    "# Dropping an entry\n",
    "obj = pd.Series(np.arange(5.), index=['a', 'b', 'c', 'd', 'e'])\n",
    "new_obj = obj.drop('c')\n",
    "print(new_obj)\n"
   ]
  },
  {
   "cell_type": "markdown",
   "id": "c0b4c33a",
   "metadata": {},
   "source": [
    "Explanation: This demonstrates how to drop an entry by label."
   ]
  },
  {
   "cell_type": "markdown",
   "id": "3dff8d92",
   "metadata": {},
   "source": [
    "### 5. Arithmetic and Data Alignment\n",
    "\n",
    "#### 5.1 Arithmetic Operations\n",
    "\n",
    "Pandas automatically aligns data for arithmetic operations based on the index."
   ]
  },
  {
   "cell_type": "code",
   "execution_count": 17,
   "id": "5c3aebbc",
   "metadata": {},
   "outputs": [
    {
     "name": "stdout",
     "output_type": "stream",
     "text": [
      "a    5.2\n",
      "c    1.1\n",
      "e    NaN\n",
      "f    NaN\n",
      "g    NaN\n",
      "dtype: float64\n"
     ]
    }
   ],
   "source": [
    "s1 = pd.Series([7.3, -2.5, 3.4], index=['a', 'c', 'e'])\n",
    "s2 = pd.Series([-2.1, 3.6, -1.5, 4.0], index=['a', 'c', 'f', 'g'])\n",
    "result = s1 + s2\n",
    "print(result)\n"
   ]
  },
  {
   "cell_type": "markdown",
   "id": "f2587fb7",
   "metadata": {},
   "source": [
    "Explanation: Arithmetic operations between Series are automatically aligned by index, with missing values filled by NaN."
   ]
  },
  {
   "cell_type": "markdown",
   "id": "ad9198fa",
   "metadata": {},
   "source": [
    "### 6. Function Application and Mapping\n",
    "\n",
    "Apply a function to each element in a DataFrame or Series."
   ]
  },
  {
   "cell_type": "code",
   "execution_count": 18,
   "id": "389ecede",
   "metadata": {},
   "outputs": [
    {
     "name": "stdout",
     "output_type": "stream",
     "text": [
      "b    1.481313\n",
      "d    2.974441\n",
      "e    3.055326\n",
      "dtype: float64\n"
     ]
    }
   ],
   "source": [
    "# Applying a function to each element in the DataFrame\n",
    "frame = pd.DataFrame(np.random.randn(4, 3), columns=list('bde'), index=['Utah', 'Ohio', 'Texas', 'Oregon'])\n",
    "f = lambda x: x.max() - x.min()\n",
    "result = frame.apply(f)\n",
    "print(result)\n"
   ]
  },
  {
   "cell_type": "markdown",
   "id": "0a7c66dd",
   "metadata": {},
   "source": [
    "Explanation: The apply method allows you to apply a function along either axis (columns or rows) of the DataFrame.\n",
    "\n"
   ]
  },
  {
   "cell_type": "markdown",
   "id": "5af82ee5",
   "metadata": {},
   "source": [
    "### 7. Sorting and Ranking\n",
    "\n",
    "7.1 Sorting\n",
    "Sort by labels or values."
   ]
  },
  {
   "cell_type": "code",
   "execution_count": 19,
   "id": "e44a1a9a",
   "metadata": {},
   "outputs": [
    {
     "name": "stdout",
     "output_type": "stream",
     "text": [
      "a    1\n",
      "b    2\n",
      "c    3\n",
      "d    0\n",
      "dtype: int64\n"
     ]
    }
   ],
   "source": [
    "# Sorting by index\n",
    "obj = pd.Series(range(4), index=['d', 'a', 'b', 'c'])\n",
    "sorted_obj = obj.sort_index()\n",
    "print(sorted_obj)\n"
   ]
  },
  {
   "cell_type": "markdown",
   "id": "2b06ae74",
   "metadata": {},
   "source": [
    "Explanation: You can sort a Series by its index labels using the sort_index() method.\n",
    "\n"
   ]
  },
  {
   "cell_type": "markdown",
   "id": "9e08ec69",
   "metadata": {},
   "source": [
    "### 8. Summarizing and Computing Descriptive Statistics\n",
    "\n",
    "Pandas offers several methods for summarizing data, such as sum(), mean(), describe(), etc."
   ]
  },
  {
   "cell_type": "code",
   "execution_count": 20,
   "id": "5c1b7b20",
   "metadata": {},
   "outputs": [
    {
     "name": "stdout",
     "output_type": "stream",
     "text": [
      "            one       two\n",
      "count  3.000000  2.000000\n",
      "mean   3.083333 -2.900000\n",
      "std    3.493685  2.262742\n",
      "min    0.750000 -4.500000\n",
      "25%    1.075000 -3.700000\n",
      "50%    1.400000 -2.900000\n",
      "75%    4.250000 -2.100000\n",
      "max    7.100000 -1.300000\n"
     ]
    }
   ],
   "source": [
    "# Summary statistics for a DataFrame\n",
    "df = pd.DataFrame([[1.4, np.nan], [7.1, -4.5], [np.nan, np.nan], [0.75, -1.3]], \n",
    "                  index=['a', 'b', 'c', 'd'], columns=['one', 'two'])\n",
    "summary = df.describe()\n",
    "print(summary)\n"
   ]
  },
  {
   "cell_type": "markdown",
   "id": "089bcb76",
   "metadata": {},
   "source": [
    "Explanation: describe() provides a summary of statistics for numeric columns in the DataFrame."
   ]
  },
  {
   "cell_type": "markdown",
   "id": "20db52f1",
   "metadata": {},
   "source": [
    "### 9. Correlation and Covariance\n",
    "\n",
    "Calculate correlations and covariances between data."
   ]
  },
  {
   "cell_type": "code",
   "execution_count": 21,
   "id": "ddb18509",
   "metadata": {},
   "outputs": [
    {
     "name": "stdout",
     "output_type": "stream",
     "text": [
      "     one  two\n",
      "one  1.0  1.0\n",
      "two  1.0  1.0\n"
     ]
    }
   ],
   "source": [
    "# Example of correlation\n",
    "returns = df.pct_change()\n",
    "corr_matrix = returns.corr()\n",
    "print(corr_matrix)\n"
   ]
  },
  {
   "cell_type": "markdown",
   "id": "e195eab5",
   "metadata": {},
   "source": [
    "Explanation: This computes the correlation matrix for a DataFrame of percentage changes."
   ]
  },
  {
   "cell_type": "code",
   "execution_count": null,
   "id": "126533d5",
   "metadata": {},
   "outputs": [],
   "source": []
  },
  {
   "cell_type": "code",
   "execution_count": null,
   "id": "cf4b5403",
   "metadata": {},
   "outputs": [],
   "source": []
  }
 ],
 "metadata": {
  "kernelspec": {
   "display_name": "Python 3 (ipykernel)",
   "language": "python",
   "name": "python3"
  },
  "language_info": {
   "codemirror_mode": {
    "name": "ipython",
    "version": 3
   },
   "file_extension": ".py",
   "mimetype": "text/x-python",
   "name": "python",
   "nbconvert_exporter": "python",
   "pygments_lexer": "ipython3",
   "version": "3.11.5"
  }
 },
 "nbformat": 4,
 "nbformat_minor": 5
}
